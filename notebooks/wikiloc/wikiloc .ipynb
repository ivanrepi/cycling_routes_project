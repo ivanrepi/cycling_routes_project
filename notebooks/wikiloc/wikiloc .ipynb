{
 "cells": [
  {
   "cell_type": "code",
   "execution_count": null,
   "source": [
    "import pandas as pd\n",
    "import requests"
   ],
   "outputs": [],
   "metadata": {}
  }
 ],
 "metadata": {
  "orig_nbformat": 4,
  "language_info": {
   "name": "python",
   "version": "3.7.12"
  },
  "kernelspec": {
   "name": "python3",
   "display_name": "Python 3.7.12 64-bit ('ironhack_final_project': conda)"
  },
  "interpreter": {
   "hash": "35d5faefb6c065361fc1f3be751da1de5f1d3218f18b6239a6b82993d3d70a73"
  }
 },
 "nbformat": 4,
 "nbformat_minor": 2
}